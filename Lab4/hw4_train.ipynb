{
 "cells": [
  {
   "cell_type": "code",
   "execution_count": 1,
   "metadata": {},
   "outputs": [],
   "source": [
    "import pandas as pd\n",
    "import numpy as np\n",
    "\n",
    "from sklearn.model_selection import train_test_split\n"
   ]
  },
  {
   "cell_type": "code",
   "execution_count": 3,
   "metadata": {},
   "outputs": [],
   "source": [
    "data = pd.read_excel(\"AI.xlsx\")"
   ]
  },
  {
   "cell_type": "code",
   "execution_count": 4,
   "metadata": {},
   "outputs": [
    {
     "data": {
      "text/html": [
       "<div>\n",
       "<style scoped>\n",
       "    .dataframe tbody tr th:only-of-type {\n",
       "        vertical-align: middle;\n",
       "    }\n",
       "\n",
       "    .dataframe tbody tr th {\n",
       "        vertical-align: top;\n",
       "    }\n",
       "\n",
       "    .dataframe thead th {\n",
       "        text-align: right;\n",
       "    }\n",
       "</style>\n",
       "<table border=\"1\" class=\"dataframe\">\n",
       "  <thead>\n",
       "    <tr style=\"text-align: right;\">\n",
       "      <th></th>\n",
       "      <th>題號</th>\n",
       "      <th>文章</th>\n",
       "      <th>問題</th>\n",
       "      <th>選項1</th>\n",
       "      <th>選項2</th>\n",
       "      <th>選項3</th>\n",
       "      <th>選項4</th>\n",
       "    </tr>\n",
       "  </thead>\n",
       "  <tbody>\n",
       "    <tr>\n",
       "      <th>0</th>\n",
       "      <td>10023321</td>\n",
       "      <td>尹雪艷非常迷人，名氣大了，難免招忌。一些同行的姊妹看了眼紅，就到處放話：尹雪艷的八字帶著重煞...</td>\n",
       "      <td>請問根據此段文章，下面哪一個選項與「尹雪艷八字犯重煞」無關？</td>\n",
       "      <td>增加尹雪艷神秘感</td>\n",
       "      <td>同行因忌妒而放話</td>\n",
       "      <td>會讓親近者家敗人亡</td>\n",
       "      <td>忠孝仁愛信義和平</td>\n",
       "    </tr>\n",
       "    <tr>\n",
       "      <th>1</th>\n",
       "      <td>10076124</td>\n",
       "      <td>男：請問，苗栗的縣立圖書館在哪裡？\\n女：就沿著門口那條路走到底，再向左轉就到了。\\n男：會...</td>\n",
       "      <td>這位先生最欣賞苗栗什麼？</td>\n",
       "      <td>有歷史感的房子。</td>\n",
       "      <td>方便的U-BIKE。</td>\n",
       "      <td>圖書館的藏書。</td>\n",
       "      <td>鐵道博物館。</td>\n",
       "    </tr>\n",
       "    <tr>\n",
       "      <th>2</th>\n",
       "      <td>10292442</td>\n",
       "      <td>大仁：小明，放學後要留下來跟我們\\n一起練校運會的大隊接力喔﹗\\n小明：不行啦﹗我還有事沒辦...</td>\n",
       "      <td>小明為什麼放學後不能留在學校練習大隊接力﹖</td>\n",
       "      <td>要回家幫忙看店。</td>\n",
       "      <td>要去約會。</td>\n",
       "      <td>要去補習。</td>\n",
       "      <td>要交女朋友。</td>\n",
       "    </tr>\n",
       "    <tr>\n",
       "      <th>3</th>\n",
       "      <td>10450610</td>\n",
       "      <td>在一份全球最大規模的礦業展覽與技術會議中顯示，由專業買主與企業對設備及產品的平均購買能力高達...</td>\n",
       "      <td>這是關於什麼行業類別的文章？</td>\n",
       "      <td>食品業</td>\n",
       "      <td>農業</td>\n",
       "      <td>礦業</td>\n",
       "      <td>半導體業</td>\n",
       "    </tr>\n",
       "    <tr>\n",
       "      <th>4</th>\n",
       "      <td>10466910</td>\n",
       "      <td>男：我最近玩了一款新的手遊，我猜你應該會喜歡\\n女：什麼樣的手遊\\n男：一款SLG手遊，故事...</td>\n",
       "      <td>請問下列關於這款遊戲的描述何者正確</td>\n",
       "      <td>這款遊戲不付費就無法進行</td>\n",
       "      <td>這款遊戲的支援系統可以讓玩家使用好友的道具</td>\n",
       "      <td>這是一款角色扮演遊戲</td>\n",
       "      <td>這款遊戲只有一種結局</td>\n",
       "    </tr>\n",
       "  </tbody>\n",
       "</table>\n",
       "</div>"
      ],
      "text/plain": [
       "         題號                                                 文章  \\\n",
       "0  10023321  尹雪艷非常迷人，名氣大了，難免招忌。一些同行的姊妹看了眼紅，就到處放話：尹雪艷的八字帶著重煞...   \n",
       "1  10076124  男：請問，苗栗的縣立圖書館在哪裡？\\n女：就沿著門口那條路走到底，再向左轉就到了。\\n男：會...   \n",
       "2  10292442  大仁：小明，放學後要留下來跟我們\\n一起練校運會的大隊接力喔﹗\\n小明：不行啦﹗我還有事沒辦...   \n",
       "3  10450610  在一份全球最大規模的礦業展覽與技術會議中顯示，由專業買主與企業對設備及產品的平均購買能力高達...   \n",
       "4  10466910  男：我最近玩了一款新的手遊，我猜你應該會喜歡\\n女：什麼樣的手遊\\n男：一款SLG手遊，故事...   \n",
       "\n",
       "                               問題           選項1                    選項2  \\\n",
       "0  請問根據此段文章，下面哪一個選項與「尹雪艷八字犯重煞」無關？      增加尹雪艷神秘感               同行因忌妒而放話   \n",
       "1                    這位先生最欣賞苗栗什麼？      有歷史感的房子。             方便的U-BIKE。   \n",
       "2           小明為什麼放學後不能留在學校練習大隊接力﹖      要回家幫忙看店。                  要去約會。   \n",
       "3                  這是關於什麼行業類別的文章？           食品業                     農業   \n",
       "4               請問下列關於這款遊戲的描述何者正確  這款遊戲不付費就無法進行  這款遊戲的支援系統可以讓玩家使用好友的道具   \n",
       "\n",
       "          選項3         選項4  \n",
       "0   會讓親近者家敗人亡    忠孝仁愛信義和平  \n",
       "1     圖書館的藏書。      鐵道博物館。  \n",
       "2       要去補習。      要交女朋友。  \n",
       "3          礦業        半導體業  \n",
       "4  這是一款角色扮演遊戲  這款遊戲只有一種結局  "
      ]
     },
     "execution_count": 4,
     "metadata": {},
     "output_type": "execute_result"
    }
   ],
   "source": [
    "data.head(5)"
   ]
  },
  {
   "cell_type": "code",
   "execution_count": 17,
   "metadata": {},
   "outputs": [
    {
     "name": "stderr",
     "output_type": "stream",
     "text": [
      "/tmp/ipykernel_135254/2229722044.py:18: FutureWarning: Series.__getitem__ treating keys as positions is deprecated. In a future version, integer keys will always be treated as labels (consistent with DataFrame behavior). To access a value by position, use `ser.iloc[pos]`\n",
      "  data_dict[\"output\"] = str(data.iloc[k][7])\n"
     ]
    }
   ],
   "source": [
    "json_data = []\n",
    "\n",
    "\n",
    "for k in range(data.shape[0]):\n",
    "\n",
    "    data_dict = {\n",
    "        \"instruction\": \"請根據以下輸入回答選擇題，並以數字回答：\\n\",\n",
    "        \"input\": \"\",\n",
    "        \"output\": \"\"\n",
    "    }\n",
    "\n",
    "    input = list(data.iloc[k][1:7])\n",
    "    for i in range(1, 5):\n",
    "        input[1+i] = f\"{i}: \" + str(input[1+i])\n",
    "\n",
    "    input_s = \"\\n\".join(input)\n",
    "    data_dict[\"input\"] = input_s\n",
    "    data_dict[\"output\"] = str(data.iloc[k][7])\n",
    "\n",
    "    json_data.append(data_dict)\n"
   ]
  },
  {
   "cell_type": "code",
   "execution_count": 24,
   "metadata": {},
   "outputs": [],
   "source": [
    "n = data.shape[0]\n",
    "train_json, val_json = train_test_split(\n",
    "    json_data,\n",
    "    test_size=0.2,\n",
    "    random_state=42,\n",
    ")"
   ]
  },
  {
   "cell_type": "code",
   "execution_count": 26,
   "metadata": {},
   "outputs": [],
   "source": [
    "import json\n",
    "with open('train.json', 'w') as json_file:\n",
    "    json.dump(train_json, json_file, indent=2)\n",
    "\n",
    "with open('valid.json', 'w') as json_file:\n",
    "    json.dump(val_json, json_file, indent=2)"
   ]
  }
 ],
 "metadata": {
  "kernelspec": {
   "display_name": "dlmia",
   "language": "python",
   "name": "python3"
  },
  "language_info": {
   "codemirror_mode": {
    "name": "ipython",
    "version": 3
   },
   "file_extension": ".py",
   "mimetype": "text/x-python",
   "name": "python",
   "nbconvert_exporter": "python",
   "pygments_lexer": "ipython3",
   "version": "3.10.13"
  }
 },
 "nbformat": 4,
 "nbformat_minor": 2
}
